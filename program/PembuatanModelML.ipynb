{
 "cells": [
  {
   "cell_type": "code",
   "execution_count": 7,
   "metadata": {},
   "outputs": [],
   "source": [
    "# Memanggil pustaka yang digunakan\n",
    "import pandas as pd\n",
    "import matplotlib.pyplot as plt\n",
    "import seaborn as sns\n",
    "import numpy as np\n",
    "import joblib\n",
    "from sklearn.ensemble import RandomForestClassifier\n",
    "from sklearn.metrics import f1_score, accuracy_score\n",
    "from sklearn.model_selection import train_test_split\n",
    "from sklearn.metrics import confusion_matrix, plot_confusion_matrix\n",
    "from sklearn.metrics import classification_report\n",
    "from sklearn.neighbors import KNeighborsClassifier\n",
    "from sklearn.preprocessing import StandardScaler\n",
    "from sklearn.preprocessing import MinMaxScaler"
   ]
  },
  {
   "cell_type": "code",
   "execution_count": 2,
   "metadata": {},
   "outputs": [
    {
     "name": "stdout",
     "output_type": "stream",
     "text": [
      "(1690, 7) (2535, 7) (528, 7) (529, 7)\n"
     ]
    }
   ],
   "source": [
    "dataLabel = pd.read_csv(\"C:/Users/USER/Documents/0. TUGAS AKHIR/Data Skripsi TEP/Data Baru/Data Latih Berlabel 150.csv\")\n",
    "dataLabel.drop(\"Unnamed: 0\", axis=1, inplace=True)\n",
    "dataUnlabel = pd.read_csv(\"C:/Users/USER/Documents/0. TUGAS AKHIR/Data Skripsi TEP/Data Baru/Data Latih Tidak Berlabel 150.csv\")\n",
    "dataUnlabel.drop(\"Unnamed: 0\", axis=1, inplace=True)\n",
    "dataUji = pd.read_csv(\"C:/Users/USER/Documents/0. TUGAS AKHIR/Data Skripsi TEP/Data Baru/Data Uji 150.csv\")\n",
    "dataUji.drop(\"Unnamed: 0\", axis=1, inplace=True)\n",
    "dataVal = pd.read_csv(\"C:/Users/USER/Documents/0. TUGAS AKHIR/Data Skripsi TEP/Data Baru/Data Validasi 150.csv\")\n",
    "dataVal.drop(\"Unnamed: 0\", axis=1, inplace=True)\n",
    "print(dataLabel.shape, dataUnlabel.shape, dataUji.shape, dataVal.shape)"
   ]
  },
  {
   "cell_type": "code",
   "execution_count": 3,
   "metadata": {},
   "outputs": [
    {
     "data": {
      "text/html": [
       "<div>\n",
       "<style scoped>\n",
       "    .dataframe tbody tr th:only-of-type {\n",
       "        vertical-align: middle;\n",
       "    }\n",
       "\n",
       "    .dataframe tbody tr th {\n",
       "        vertical-align: top;\n",
       "    }\n",
       "\n",
       "    .dataframe thead th {\n",
       "        text-align: right;\n",
       "    }\n",
       "</style>\n",
       "<table border=\"1\" class=\"dataframe\">\n",
       "  <thead>\n",
       "    <tr style=\"text-align: right;\">\n",
       "      <th></th>\n",
       "      <th>0_Median absolute diff</th>\n",
       "      <th>0_Median absolute deviation</th>\n",
       "      <th>0_Min</th>\n",
       "      <th>0_Max</th>\n",
       "      <th>0_ECDF Percentile_0</th>\n",
       "      <th>0_Peak to peak distance</th>\n",
       "      <th>Label</th>\n",
       "    </tr>\n",
       "  </thead>\n",
       "  <tbody>\n",
       "    <tr>\n",
       "      <th>0</th>\n",
       "      <td>0.523043</td>\n",
       "      <td>0.523043</td>\n",
       "      <td>-1.575049</td>\n",
       "      <td>1.563212</td>\n",
       "      <td>-0.528962</td>\n",
       "      <td>3.138260</td>\n",
       "      <td>2</td>\n",
       "    </tr>\n",
       "    <tr>\n",
       "      <th>1</th>\n",
       "      <td>0.085755</td>\n",
       "      <td>0.574556</td>\n",
       "      <td>-1.065287</td>\n",
       "      <td>1.490200</td>\n",
       "      <td>-0.567911</td>\n",
       "      <td>2.555487</td>\n",
       "      <td>3</td>\n",
       "    </tr>\n",
       "    <tr>\n",
       "      <th>2</th>\n",
       "      <td>0.102759</td>\n",
       "      <td>0.188392</td>\n",
       "      <td>-0.652062</td>\n",
       "      <td>0.786571</td>\n",
       "      <td>-0.249587</td>\n",
       "      <td>1.438632</td>\n",
       "      <td>2</td>\n",
       "    </tr>\n",
       "    <tr>\n",
       "      <th>3</th>\n",
       "      <td>0.523997</td>\n",
       "      <td>0.523997</td>\n",
       "      <td>-1.049635</td>\n",
       "      <td>1.570349</td>\n",
       "      <td>-0.525638</td>\n",
       "      <td>2.619985</td>\n",
       "      <td>3</td>\n",
       "    </tr>\n",
       "    <tr>\n",
       "      <th>4</th>\n",
       "      <td>0.077070</td>\n",
       "      <td>0.792104</td>\n",
       "      <td>-1.337125</td>\n",
       "      <td>1.437381</td>\n",
       "      <td>-0.840454</td>\n",
       "      <td>2.774505</td>\n",
       "      <td>2</td>\n",
       "    </tr>\n",
       "    <tr>\n",
       "      <th>...</th>\n",
       "      <td>...</td>\n",
       "      <td>...</td>\n",
       "      <td>...</td>\n",
       "      <td>...</td>\n",
       "      <td>...</td>\n",
       "      <td>...</td>\n",
       "      <td>...</td>\n",
       "    </tr>\n",
       "    <tr>\n",
       "      <th>1685</th>\n",
       "      <td>0.078159</td>\n",
       "      <td>0.082502</td>\n",
       "      <td>-1.068892</td>\n",
       "      <td>-0.521776</td>\n",
       "      <td>-0.921257</td>\n",
       "      <td>0.547116</td>\n",
       "      <td>1</td>\n",
       "    </tr>\n",
       "    <tr>\n",
       "      <th>1686</th>\n",
       "      <td>0.523043</td>\n",
       "      <td>0.523043</td>\n",
       "      <td>-1.575049</td>\n",
       "      <td>1.040168</td>\n",
       "      <td>-1.052005</td>\n",
       "      <td>2.615217</td>\n",
       "      <td>2</td>\n",
       "    </tr>\n",
       "    <tr>\n",
       "      <th>1687</th>\n",
       "      <td>0.092585</td>\n",
       "      <td>0.277755</td>\n",
       "      <td>-0.154949</td>\n",
       "      <td>1.131983</td>\n",
       "      <td>0.132065</td>\n",
       "      <td>1.286931</td>\n",
       "      <td>0</td>\n",
       "    </tr>\n",
       "    <tr>\n",
       "      <th>1688</th>\n",
       "      <td>0.085755</td>\n",
       "      <td>0.248688</td>\n",
       "      <td>-0.550760</td>\n",
       "      <td>0.847040</td>\n",
       "      <td>-0.199166</td>\n",
       "      <td>1.397800</td>\n",
       "      <td>3</td>\n",
       "    </tr>\n",
       "    <tr>\n",
       "      <th>1689</th>\n",
       "      <td>0.085755</td>\n",
       "      <td>1.003329</td>\n",
       "      <td>-1.828503</td>\n",
       "      <td>1.713162</td>\n",
       "      <td>-1.116740</td>\n",
       "      <td>3.541665</td>\n",
       "      <td>3</td>\n",
       "    </tr>\n",
       "  </tbody>\n",
       "</table>\n",
       "<p>1690 rows × 7 columns</p>\n",
       "</div>"
      ],
      "text/plain": [
       "      0_Median absolute diff  0_Median absolute deviation     0_Min     0_Max  \\\n",
       "0                   0.523043                     0.523043 -1.575049  1.563212   \n",
       "1                   0.085755                     0.574556 -1.065287  1.490200   \n",
       "2                   0.102759                     0.188392 -0.652062  0.786571   \n",
       "3                   0.523997                     0.523997 -1.049635  1.570349   \n",
       "4                   0.077070                     0.792104 -1.337125  1.437381   \n",
       "...                      ...                          ...       ...       ...   \n",
       "1685                0.078159                     0.082502 -1.068892 -0.521776   \n",
       "1686                0.523043                     0.523043 -1.575049  1.040168   \n",
       "1687                0.092585                     0.277755 -0.154949  1.131983   \n",
       "1688                0.085755                     0.248688 -0.550760  0.847040   \n",
       "1689                0.085755                     1.003329 -1.828503  1.713162   \n",
       "\n",
       "      0_ECDF Percentile_0  0_Peak to peak distance  Label  \n",
       "0               -0.528962                 3.138260      2  \n",
       "1               -0.567911                 2.555487      3  \n",
       "2               -0.249587                 1.438632      2  \n",
       "3               -0.525638                 2.619985      3  \n",
       "4               -0.840454                 2.774505      2  \n",
       "...                   ...                      ...    ...  \n",
       "1685            -0.921257                 0.547116      1  \n",
       "1686            -1.052005                 2.615217      2  \n",
       "1687             0.132065                 1.286931      0  \n",
       "1688            -0.199166                 1.397800      3  \n",
       "1689            -1.116740                 3.541665      3  \n",
       "\n",
       "[1690 rows x 7 columns]"
      ]
     },
     "execution_count": 3,
     "metadata": {},
     "output_type": "execute_result"
    }
   ],
   "source": [
    "dataLabel"
   ]
  },
  {
   "cell_type": "code",
   "execution_count": 4,
   "metadata": {},
   "outputs": [],
   "source": [
    "lis = [\"0_Median absolute diff\", \"0_Median absolute deviation\", \"0_Min\", \"0_Max\"]\n",
    "X_label = dataLabel[lis]\n",
    "Y_label = dataLabel[\"Label\"]\n",
    "X_Unlabel = dataUnlabel[lis]\n",
    "Y_Unlabel = dataUnlabel[\"Label\"]\n",
    "X_uji = dataUji[lis]\n",
    "Y_uji = dataUji[\"Label\"]\n",
    "X_val = dataVal[lis]\n",
    "Y_val = dataVal[\"Label\"]"
   ]
  },
  {
   "cell_type": "code",
   "execution_count": 5,
   "metadata": {},
   "outputs": [
    {
     "data": {
      "text/plain": [
       "0      3\n",
       "1      1\n",
       "2      2\n",
       "3      2\n",
       "4      2\n",
       "      ..\n",
       "524    2\n",
       "525    2\n",
       "526    1\n",
       "527    0\n",
       "528    2\n",
       "Name: Label, Length: 529, dtype: int64"
      ]
     },
     "execution_count": 5,
     "metadata": {},
     "output_type": "execute_result"
    }
   ],
   "source": [
    "Y_val"
   ]
  },
  {
   "cell_type": "code",
   "execution_count": 8,
   "metadata": {},
   "outputs": [],
   "source": [
    "label_scaler150 = MinMaxScaler().fit(X_label.values)"
   ]
  },
  {
   "cell_type": "code",
   "execution_count": 9,
   "metadata": {},
   "outputs": [
    {
     "data": {
      "text/plain": [
       "['label_scaler_model1']"
      ]
     },
     "execution_count": 9,
     "metadata": {},
     "output_type": "execute_result"
    }
   ],
   "source": [
    "joblib.dump(label_scaler150, \"label_scaler_model1\")"
   ]
  },
  {
   "cell_type": "code",
   "execution_count": 10,
   "metadata": {},
   "outputs": [],
   "source": [
    "scale_label = label_scaler150.transform(X_label.values)\n",
    "scale_Unlabel = label_scaler150.transform(X_Unlabel.values)\n",
    "scale_uji = label_scaler150.transform(X_uji.values)\n",
    "scale_Val = label_scaler150.transform(X_val.values)"
   ]
  },
  {
   "cell_type": "code",
   "execution_count": 11,
   "metadata": {},
   "outputs": [],
   "source": [
    "Xlabel = scale_label\n",
    "XUnlabel = scale_Unlabel\n",
    "Xuji = scale_uji\n",
    "Xval = scale_Val"
   ]
  },
  {
   "cell_type": "code",
   "execution_count": 12,
   "metadata": {},
   "outputs": [],
   "source": [
    "X_label = dataLabel.iloc[:,:4].values\n",
    "y_label = dataLabel.iloc[:,-1].values\n",
    "X_Unlabel = StandardScaler().fit(dataUnlabel.iloc[:,:4].values)\n",
    "y_Unlabel = dataUnlabel.iloc[:,-1].values\n",
    "X_test = StandardScaler().fit(dataUji.iloc[:,:4].values)\n",
    "y_test = dataUji.iloc[:,-1].values\n",
    "X_val = StandardScaler().fit(dataVal.iloc[:,:4].values)\n",
    "y_val = dataVal.iloc[:,-1].values"
   ]
  },
  {
   "cell_type": "code",
   "execution_count": 13,
   "metadata": {},
   "outputs": [
    {
     "name": "stdout",
     "output_type": "stream",
     "text": [
      "              precision    recall  f1-score   support\n",
      "\n",
      "           0       0.87      0.90      0.88       124\n",
      "           1       0.69      0.81      0.75       125\n",
      "           2       0.68      0.71      0.70       138\n",
      "           3       0.79      0.62      0.70       142\n",
      "\n",
      "    accuracy                           0.75       529\n",
      "   macro avg       0.76      0.76      0.75       529\n",
      "weighted avg       0.76      0.75      0.75       529\n",
      "\n"
     ]
    },
    {
     "name": "stderr",
     "output_type": "stream",
     "text": [
      "C:\\Users\\USER\\AppData\\Local\\Packages\\PythonSoftwareFoundation.Python.3.8_qbz5n2kfra8p0\\LocalCache\\local-packages\\Python38\\site-packages\\sklearn\\utils\\deprecation.py:87: FutureWarning: Function plot_confusion_matrix is deprecated; Function `plot_confusion_matrix` is deprecated in 1.0 and will be removed in 1.2. Use one of the class methods: ConfusionMatrixDisplay.from_predictions or ConfusionMatrixDisplay.from_estimator.\n",
      "  warnings.warn(msg, category=FutureWarning)\n"
     ]
    },
    {
     "name": "stdout",
     "output_type": "stream",
     "text": [
      "[[111   8   3   2]\n",
      " [  7 101  12   5]\n",
      " [  6  18  98  16]\n",
      " [  4  19  31  88]]\n"
     ]
    },
    {
     "data": {
      "image/png": "[encoded data removed]",
      "text/plain": [
       "<Figure size 432x288 with 2 Axes>"
      ]
     },
     "metadata": {
      "needs_background": "light"
     },
     "output_type": "display_data"
    }
   ],
   "source": [
    "knn1 = KNeighborsClassifier(n_neighbors=5, p=1).fit(Xlabel, Y_label)\n",
    "y_pred1 = knn1.predict(Xval)\n",
    "\n",
    "cr = classification_report(Y_val,  y_pred1)\n",
    "print(cr)\n",
    "plot_confusion_matrix(knn1, Xval, Y_val)\n",
    "print(confusion_matrix(Y_val, y_pred1))"
   ]
  },
  {
   "cell_type": "code",
   "execution_count": 14,
   "metadata": {},
   "outputs": [],
   "source": [
    "y_pred1 = knn1.predict(XUnlabel)\n",
    "y_prob  = knn1.predict_proba(XUnlabel)\n",
    "df = pd.DataFrame(y_prob, columns = [\"C1Prob\", \"C2Prob\", \"C3Prob\", \"C4Prob\"])\n",
    "df[\"LabelSemu\"] = y_pred1\n",
    "df[\"aktual\"] = Y_Unlabel\n",
    "df[\"Max\"] = df[[\"C1Prob\", \"C2Prob\", \"C3Prob\", \"C4Prob\"]].max(axis=1)\n",
    "nc = np.arange(0.4, 1, 0.06)\n",
    "acc = np.empty(10)\n",
    "f1skor = np.empty(10) \n",
    "i = 0\n",
    "for k in np.nditer(nc):\n",
    "    conf_ind = df[\"Max\"]>k\n",
    "    X_train1 = np.append(Xlabel, XUnlabel[conf_ind, :], axis=0)\n",
    "    y_train1 = np.append(Y_label, df.loc[conf_ind, [\"LabelSemu\"]])\n",
    "    clf = KNeighborsClassifier(n_neighbors=5, p=1).fit(X_train1, y_train1)\n",
    "    y_pred3 =  clf.predict(Xval)\n",
    "    acc[i] = clf.score(Xval, Y_val)*100\n",
    "    i = i + 1"
   ]
  },
  {
   "cell_type": "code",
   "execution_count": 15,
   "metadata": {},
   "outputs": [
    {
     "data": {
      "text/plain": [
       "array([74.85822306, 74.85822306, 74.85822306, 74.85822306, 75.80340265,\n",
       "       75.80340265, 75.80340265, 75.61436673, 75.61436673, 75.61436673])"
      ]
     },
     "execution_count": 15,
     "metadata": {},
     "output_type": "execute_result"
    }
   ],
   "source": [
    "acc"
   ]
  },
  {
   "cell_type": "code",
   "execution_count": 16,
   "metadata": {},
   "outputs": [
    {
     "data": {
      "text/plain": [
       "['deteksi_model']"
      ]
     },
     "execution_count": 16,
     "metadata": {},
     "output_type": "execute_result"
    }
   ],
   "source": [
    "joblib.dump(clf, \"deteksi_model\")"
   ]
  },
  {
   "cell_type": "code",
   "execution_count": null,
   "metadata": {},
   "outputs": [],
   "source": []
  }
 ],
 "metadata": {
  "kernelspec": {
   "display_name": "Python 3.8.10 64-bit (windows store)",
   "language": "python",
   "name": "python3"
  },
  "language_info": {
   "codemirror_mode": {
    "name": "ipython",
    "version": 3
   },
   "file_extension": ".py",
   "mimetype": "text/x-python",
   "name": "python",
   "nbconvert_exporter": "python",
   "pygments_lexer": "ipython3",
   "version": "3.8.10"
  },
  "orig_nbformat": 4,
  "vscode": {
   "interpreter": {
    "hash": "cde544f8739533cebef63bf12999052a10729ddf7c121822866b350ee78941c5"
   }
  }
 },
 "nbformat": 4,
 "nbformat_minor": 2
}
